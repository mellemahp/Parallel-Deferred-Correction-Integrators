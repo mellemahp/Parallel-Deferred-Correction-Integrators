{
 "cells": [
  {
   "cell_type": "code",
   "execution_count": 16,
   "metadata": {},
   "outputs": [],
   "source": [
    "import ad\n",
    "from ad import jacobian\n",
    "import math"
   ]
  },
  {
   "cell_type": "code",
   "execution_count": 17,
   "metadata": {},
   "outputs": [
    {
     "name": "stdout",
     "output_type": "stream",
     "text": [
      "Requirement already satisfied: ad in /home/mellemahp/.local/lib/python3.8/site-packages (1.3.2)\n"
     ]
    }
   ],
   "source": [
    "!pip install --user ad"
   ]
  },
  {
   "cell_type": "code",
   "execution_count": 18,
   "metadata": {},
   "outputs": [],
   "source": [
    "def derivatives(t,  state, force_model):\n",
    "        \"\"\" Computes the jacobian and state derivatives\n",
    "        Args:\n",
    "            state (np.ndarray): state vector to find derivatives of\n",
    "        \"\"\"\n",
    "        ad_state = ad.adnumber(state)\n",
    "        state_deriv = force_model(t, ad_state)\n",
    "\n",
    "        return jacobian(state_deriv, ad_state)"
   ]
  },
  {
   "cell_type": "code",
   "execution_count": 19,
   "metadata": {},
   "outputs": [],
   "source": [
    "MU_EARTH = 398600.4418;\n",
    "\n",
    "def point_mass(t, state_vec):\n",
    "        \"\"\"Calculates the x, y, z accelerations due to point\n",
    "            mass gravity model\n",
    "        \"\"\"\n",
    "        x, y, z = state_vec[0:3]\n",
    "        r = math.sqrt(x**2 + y**2 + z**2)\n",
    "\n",
    "        return [ state_vec[3],\n",
    "                state_vec[4], \n",
    "                state_vec[5], \n",
    "                -MU_EARTH * x / r**3, \n",
    "                -MU_EARTH * y / r**3, \n",
    "                -MU_EARTH * z / r**3\n",
    "               ]"
   ]
  },
  {
   "cell_type": "code",
   "execution_count": 20,
   "metadata": {},
   "outputs": [
    {
     "data": {
      "text/plain": [
       "[[0.0, 0.0, 0.0, 1.0, 0.0, 0.0],\n",
       " [0.0, 0.0, 0.0, 0.0, 1.0, 0.0],\n",
       " [0.0, 0.0, 0.0, 0.0, 0.0, 1.0],\n",
       " [-1.2335565200680351e-06, 0.0, 0.0, 0.0, 0.0, 0.0],\n",
       " [0.0, -1.2335565200680351e-06, 0.0, 0.0, 0.0, 0.0],\n",
       " [0.0, 0.0, -1.2335565200680351e-06, 0.0, 0.0, 0.0]]"
      ]
     },
     "execution_count": 20,
     "metadata": {},
     "output_type": "execute_result"
    }
   ],
   "source": [
    "x = [2346.990106320778, -6448.302320799823, 0.0, -0.929850992832803, -0.33843808369401185, 7.556966128142757]\n",
    "derivatives(0, x, point_mass)"
   ]
  },
  {
   "cell_type": "code",
   "execution_count": 21,
   "metadata": {},
   "outputs": [],
   "source": [
    "x = [0.0, 0.0, 0.0, -0.0000008006604162116876, -0.000001189372270335099, 0.0, 0.0, 0.0, 0.0, -0.0000011926223897340549, 0.0000020469737016526324, 0.0, 0.0, 0.0, 0.0, 0.0, 0.0, -0.0000012335565200680351, 1.000000082740371, 0.0, 0.0, 0.0, 0.0, 0.0, 0.0, 1.000000082740371, 0.0, 0.0, 0.0, 0.0, 0.0, 0.0, 1.0, 0.0, 0.0, 0.0]"
   ]
  },
  {
   "cell_type": "code",
   "execution_count": 23,
   "metadata": {},
   "outputs": [
    {
     "name": "stdout",
     "output_type": "stream",
     "text": [
      "[0.0, 0.0, 0.0, 1.0, 0.0, 0.0, 0.0, 0.0, 0.0, 0.0, 1.000000082740371, 0.0, 0.0, 0.0, 0.0, 0.0, 0.0, 1.000000082740371, -1.2335565200680351e-06, 0.0, 0.0, 0.0, 0.0, 0.0, 0.0, 2.0469737016526324e-06, -1.1926223897340549e-06, 0.0, 0.0, 0.0, 0.0, -1.189372270335099e-06, -8.006604162116876e-07, 0.0, 0.0, 0.0]\n"
     ]
    },
    {
     "data": {
      "text/plain": [
       "[[0, 0, 0, 1, 0, 0]]"
      ]
     },
     "execution_count": 23,
     "metadata": {},
     "output_type": "execute_result"
    }
   ],
   "source": [
    "print(x[::-1])\n",
    "\n",
    "[\n",
    "    [0.0, 0.0, 0.0, 1.0, 0.0, 0.0], \n",
    "    [0.0, 0.0, 0.0, 0.0, 1.000000082740371, 0.0], \n",
    "    [0.0, 0.0, 0.0, 0.0, 0.0, 1.000000082740371,],\n",
    "    [],\n",
    "    [],\n",
    "    [],\n",
    "]"
   ]
  },
  {
   "cell_type": "code",
   "execution_count": null,
   "metadata": {},
   "outputs": [],
   "source": []
  }
 ],
 "metadata": {
  "kernelspec": {
   "display_name": "Python 3.8.0 64-bit",
   "language": "python",
   "name": "python38064bit82f155ab96e54e28aabce757009c938f"
  },
  "language_info": {
   "codemirror_mode": {
    "name": "ipython",
    "version": 3
   },
   "file_extension": ".py",
   "mimetype": "text/x-python",
   "name": "python",
   "nbconvert_exporter": "python",
   "pygments_lexer": "ipython3",
   "version": "3.8.0"
  }
 },
 "nbformat": 4,
 "nbformat_minor": 2
}

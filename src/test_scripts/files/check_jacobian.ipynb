{
 "cells": [
  {
   "cell_type": "code",
   "execution_count": 3,
   "metadata": {},
   "outputs": [],
   "source": [
    "import ad\n",
    "from ad import jacobian\n",
    "import math"
   ]
  },
  {
   "cell_type": "code",
   "execution_count": 17,
   "metadata": {},
   "outputs": [
    {
     "name": "stdout",
     "output_type": "stream",
     "text": [
      "Requirement already satisfied: ad in /home/mellemahp/.local/lib/python3.8/site-packages (1.3.2)\n"
     ]
    }
   ],
   "source": [
    "!pip install --user ad"
   ]
  },
  {
   "cell_type": "code",
   "execution_count": 4,
   "metadata": {},
   "outputs": [],
   "source": [
    "def derivatives(t,  state, force_model):\n",
    "        \"\"\" Computes the jacobian and state derivatives\n",
    "        Args:\n",
    "            state (np.ndarray): state vector to find derivatives of\n",
    "        \"\"\"\n",
    "        ad_state = ad.adnumber(state)\n",
    "        state_deriv = force_model(t, ad_state)\n",
    "\n",
    "        return jacobian(state_deriv, ad_state)"
   ]
  },
  {
   "cell_type": "code",
   "execution_count": 5,
   "metadata": {},
   "outputs": [],
   "source": [
    "MU_EARTH = 398600.4418;\n",
    "\n",
    "def point_mass(t, state_vec):\n",
    "        \"\"\"Calculates the x, y, z accelerations due to point\n",
    "            mass gravity model\n",
    "        \"\"\"\n",
    "        x, y, z = state_vec[0:3]\n",
    "        r = math.sqrt(x**2 + y**2 + z**2)\n",
    "\n",
    "        return [ state_vec[3],\n",
    "                state_vec[4], \n",
    "                state_vec[5], \n",
    "                -MU_EARTH * x / r**3, \n",
    "                -MU_EARTH * y / r**3, \n",
    "                -MU_EARTH * z / r**3\n",
    "               ]"
   ]
  },
  {
   "cell_type": "code",
   "execution_count": 20,
   "metadata": {},
   "outputs": [
    {
     "data": {
      "text/plain": [
       "[[0.0, 0.0, 0.0, 1.0, 0.0, 0.0],\n",
       " [0.0, 0.0, 0.0, 0.0, 1.0, 0.0],\n",
       " [0.0, 0.0, 0.0, 0.0, 0.0, 1.0],\n",
       " [-1.2335565200680351e-06, 0.0, 0.0, 0.0, 0.0, 0.0],\n",
       " [0.0, -1.2335565200680351e-06, 0.0, 0.0, 0.0, 0.0],\n",
       " [0.0, 0.0, -1.2335565200680351e-06, 0.0, 0.0, 0.0]]"
      ]
     },
     "execution_count": 20,
     "metadata": {},
     "output_type": "execute_result"
    }
   ],
   "source": [
    "x = [2346.990106320778, -6448.302320799823, 0.0, -0.929850992832803, -0.33843808369401185, 7.556966128142757]\n",
    "derivatives(0, x, point_mass)"
   ]
  },
  {
   "cell_type": "code",
   "execution_count": 1,
   "metadata": {},
   "outputs": [],
   "source": [
    "x_2 = [2239.7352094503417, -6442.345731885871, 754.1439133218141, -1.2130414081379335, 0.4574473736365868, 7.510404297357053]"
   ]
  },
  {
   "cell_type": "code",
   "execution_count": 6,
   "metadata": {},
   "outputs": [
    {
     "data": {
      "text/plain": [
       "[[0.0, 0.0, 0.0, 1.0, 0.0, 0.0],\n",
       " [0.0, 0.0, 0.0, 0.0, 1.0, 0.0],\n",
       " [0.0, 0.0, 0.0, 0.0, 0.0, 1.0],\n",
       " [-1.2335565200680356e-06, 0.0, 0.0, 0.0, 0.0, 0.0],\n",
       " [0.0, -1.2335565200680356e-06, 0.0, 0.0, 0.0, 0.0],\n",
       " [0.0, 0.0, -1.2335565200680356e-06, 0.0, 0.0, 0.0]]"
      ]
     },
     "execution_count": 6,
     "metadata": {},
     "output_type": "execute_result"
    }
   ],
   "source": [
    "derivatives(0, x_2, point_mass)"
   ]
  },
  {
   "cell_type": "code",
   "execution_count": null,
   "metadata": {},
   "outputs": [],
   "source": []
  }
 ],
 "metadata": {
  "kernelspec": {
   "display_name": "Python 3.8.0 64-bit",
   "language": "python",
   "name": "python38064bit82f155ab96e54e28aabce757009c938f"
  },
  "language_info": {
   "codemirror_mode": {
    "name": "ipython",
    "version": 3
   },
   "file_extension": ".py",
   "mimetype": "text/x-python",
   "name": "python",
   "nbconvert_exporter": "python",
   "pygments_lexer": "ipython3",
   "version": "3.8.0"
  }
 },
 "nbformat": 4,
 "nbformat_minor": 2
}
